{
 "cells": [
  {
   "cell_type": "markdown",
   "metadata": {},
   "source": [
    "# 'OR' Binary Classification \n",
    "\n",
    "주어진 데이터를 분류하는 `분류(classificaion)`문제를 살펴보자. 분류 중에서 주어진 데이터를 두 개의 그룹(0 또는 1)으로 분류하는 이진 분류(binary classification)을 다룰 것이다. 회귀분석과 달리 이진 분류는 최종 레이어 $H$를 정의할 때 `Sigmoid`를 사용한다.\n",
    "\n",
    "| $X$ | $y$  |\n",
    "|:---:|:---:|\n",
    "|  (0,0) | 0  |\n",
    "|  (0,1) | 1  |\n",
    "|  (1,0) | 1  |\n",
    "|  (1,1) | 1  |\n",
    "\n",
    "\n",
    "$X$와 $y$가 위와 같이 주어져 있다고 했을 때 $X$와 $y$사이를 잘 설명하는\n",
    "\n",
    "$$\n",
    "H(X) = s(XW + b) = s( w_1 \\cdot x_1 + w_2 \\cdot x_2 +b)\n",
    "$$\n",
    "\n",
    "를 찾는 것이다. 여기서 $s(z):=\\frac{1}{1+e^{-z}}$이고 $W = (w_1, w_2)$이다. 즉, 주어진 데이터를 잘 설명하는 $H(X)$의 $W$와 $b$를 찾는 것 이다. \n",
    "\n",
    "![](data/binary1.png)\n",
    "\n",
    "cost 함수는 MSE가 아닌 Cross Entropy을 사용한다."
   ]
  },
  {
   "cell_type": "markdown",
   "metadata": {},
   "source": [
    "### 분류(classificaion)의 cost 함수\n",
    "cost 함수란 실제값 $Y$와 모델이 예측한 값 $H$의 차이를 측정(measure)하는 함수로 예측값 $H$가 실제값 $Y$를 잘 예측하기 위해 cost함수를 최소화하는 방향으로 $W$와 $b$를 업데이트해야 한다. 회귀분석(regression)에서는 cost 함수를 MSE(Mean square error)로 정의하였는데 분류문제에서 cost 함수를 MSE로 정의하면 지나치게 작은 Sigmoid 함수의 미분계수로 인해서 weight와 bias가 제대로 업데이트 되지 않는다. 이를 확인하기 위해 MSE로 정의한 cost 함수와 $w_1$에대한 편미분을 확인해보자.\n",
    "\n",
    "$$\\begin{align*}\n",
    "\\text{MSE}(W,b) &= \\frac{1}{4}\\sum_{i=1}^4 \\big  (H(X_i)-y_i \\big )^2   = \\frac{1}{4}\\sum_{i=1}^4 \\big  (s( w_1 \\cdot x_{i1} + w_2 \\cdot x_{i2} +b)-y_i\\big)^2 \\\\\n",
    "&= \\frac{1}{4} \\left \\{ \\big(s(b)\\big)^2 +\\big(s(w_2+b)-1\\big)^2 +\\big(s(w_1+b)-1\\big)^2 + \\big(s(w_1+w_2+b)-1\\big)^2 \\right \\}\n",
    "\\end{align*}$$\n",
    "\n",
    "이고\n",
    "\n",
    "$$\\begin{align*}\n",
    "\\frac{\\partial \\text{MSE}(W,b)}{\\partial w_1} &= \\frac{1}{4} \\left \\{ 2\\big(s(w_1+b)-1\\big)\\cdot \\frac{\\partial s(w_1+b)}{\\partial w_1} + 2\\big(s(w_1+w_2+b)-1\\big)\\cdot \\frac{\\partial s(w_1+w_2+b)}{\\partial w_1}  \\right \\} \\\\\n",
    "&= \\frac{1}{4} \\Big \\{ 2\\big(s(w_1+b)-1\\big)\\cdot s(w_1+b)\\cdot \\big(1-s(w_1+b) \\big ) \\\\\n",
    "& \\quad+ 2\\big(s(w_1+w_2+b)-1\\big)\\cdot s(w_1+w_2+b)\\cdot \\big(1-s(w_1+w_2+b)\\big) \\Big \\}.\n",
    "\\end{align*}$$\n",
    "\n",
    "**Weight와 bias의 초깃값과 Sigmoid함수의 성질에 의해 편미분계수가 지나치게 작은 값이 나오기 때문에 weight와 bias가 제대로 업데이트가 되지 않는다. 그래서 이진 분류문제의 cost 함수는 MSE가 아닌 Cross Entropy로 정의한다.**\n",
    "\n",
    "\n",
    "$$\\begin{align*}\n",
    "\\text{cost}(W,b) &= - \\frac{1}{4}\\sum_{i=1}^4 \\Big( y_i \\cdot \\log(H(X_i)) + (1 - y_i) \\cdot \\log(1 - H(X_i)) \\Big)\\\\\n",
    "&= - \\frac{1}{4} \\Big (\\log(1 - s(b)) +  \\log s(w_2+b) + \\log s(w_1+b) +  \\log s(w_1+w_2+b) \\Big ).\n",
    "\\end{align*}$$\n",
    "\n",
    "MSE와 비교를 위해서 Cross Entropy의 $w_1$에 대한 편미분을 구하면 다음과 같다.\n",
    "\n",
    "$$\n",
    "\\frac{\\partial \\text{cost}(W,b)}{\\partial w_1} = -\\frac{1}{4} \\left ( \\big(1-s(w_1+b) \\big) + \\big(1-s(w_1+w_2+b)\\big) \\right)\n",
    "$$\n"
   ]
  },
  {
   "cell_type": "code",
   "execution_count": 1,
   "metadata": {},
   "outputs": [],
   "source": [
    "import tensorflow as tf\n",
    "import numpy as np\n",
    "import matplotlib.pyplot as plt\n",
    "\n",
    "%matplotlib inline"
   ]
  },
  {
   "cell_type": "code",
   "execution_count": 2,
   "metadata": {},
   "outputs": [
    {
     "data": {
      "image/png": "[encoded data removed]",
      "text/plain": [
       "<Figure size 432x288 with 1 Axes>"
      ]
     },
     "metadata": {},
     "output_type": "display_data"
    }
   ],
   "source": [
    "x_data = [[0,0],\n",
    "          [0,1],\n",
    "          [1,0],\n",
    "          [1,1]]\n",
    "\n",
    "y_data = [[0],\n",
    "         [1],\n",
    "         [1],\n",
    "         [1]]\n",
    "\n",
    "plt.xlim(-0.5,1.5)\n",
    "plt.ylim(-0.5,1.5)\n",
    "\n",
    "for i, j in enumerate(y_data):\n",
    "    if j == [0] : \n",
    "        _ = plt.plot(x_data[i][0], x_data[i][1], \"ro\", alpha=0.5)\n",
    "    else :\n",
    "        _ = plt.plot(x_data[i][0], x_data[i][1], \"bo\", alpha=0.5)"
   ]
  },
  {
   "cell_type": "code",
   "execution_count": 3,
   "metadata": {},
   "outputs": [],
   "source": [
    "# Logistic regression model\n",
    "\n",
    "X = tf.placeholder(tf.float32, shape=[None,2])\n",
    "Y = tf.placeholder(tf.float32, shape=[None,1])\n",
    "\n",
    "H = tf.layers.dense(X, 1, activation=tf.nn.sigmoid)\n",
    "\n",
    "loss = - tf.reduce_mean(Y * tf.log(H) + (1 - Y) * tf.log(1 - H))\n",
    "train = tf.train.GradientDescentOptimizer(learning_rate=0.5).minimize(loss)\n",
    "\n",
    "# Accuracy computation\n",
    "# True if hypothesis>0.5 else False\n",
    "predicted = tf.cast(H > 0.5, dtype=tf.float32)\n",
    "accuracy = tf.reduce_mean(tf.cast(tf.equal(predicted, Y), dtype=tf.float32))"
   ]
  },
  {
   "cell_type": "code",
   "execution_count": 4,
   "metadata": {
    "scrolled": false
   },
   "outputs": [
    {
     "data": {
      "image/png": "[encoded data removed]",
      "text/plain": [
       "<Figure size 864x648 with 2 Axes>"
      ]
     },
     "metadata": {},
     "output_type": "display_data"
    }
   ],
   "source": [
    "# Launch the graph in a session.\n",
    "sess = tf.Session()\n",
    "# Initializes global variables in the graph.\n",
    "sess.run(tf.global_variables_initializer())\n",
    "\n",
    "cost_list = []\n",
    "acc_list = []\n",
    "\n",
    "iteration = 100\n",
    "for step in range(iteration):\n",
    "    acc, cost, _, = sess.run([accuracy, loss,  train], feed_dict={X: x_data, Y: y_data})\n",
    "    cost_list.append(cost)\n",
    "    acc_list.append(acc)\n",
    "#     if (step+1) % (iteration//10) ==0:\n",
    "#         print(\"Step : %i, Cost : %s  Accuracy : %s\" %(step+1, cost, acc)) \n",
    "\n",
    "plt.figure(figsize=(12,9))     \n",
    "plt.subplot(221)\n",
    "plt.xlabel(\"Steps\")\n",
    "_ = plt.plot(cost_list, \"c\", label='Cost')\n",
    "_ = plt.legend(fontsize=20)\n",
    "\n",
    "plt.subplot(222)\n",
    "plt.xlabel(\"Steps\")\n",
    "_ = plt.plot(acc_list, \"k--\", label='Accuracy')\n",
    "_ = plt.legend(fontsize=20)"
   ]
  },
  {
   "cell_type": "code",
   "execution_count": null,
   "metadata": {},
   "outputs": [],
   "source": []
  }
 ],
 "metadata": {
  "kernelspec": {
   "display_name": "Environment (conda_tensorflow_p36)",
   "language": "python",
   "name": "conda_tensorflow_p36"
  },
  "language_info": {
   "codemirror_mode": {
    "name": "ipython",
    "version": 3
   },
   "file_extension": ".py",
   "mimetype": "text/x-python",
   "name": "python",
   "nbconvert_exporter": "python",
   "pygments_lexer": "ipython3",
   "version": "3.6.5"
  }
 },
 "nbformat": 4,
 "nbformat_minor": 2
}
