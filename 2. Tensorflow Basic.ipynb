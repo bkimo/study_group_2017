{
 "cells": [
  {
   "cell_type": "code",
   "execution_count": 1,
   "metadata": {},
   "outputs": [],
   "source": [
    "# load tensorflow library\n",
    "import tensorflow as tf"
   ]
  },
  {
   "cell_type": "markdown",
   "metadata": {},
   "source": [
    "# TensorFlow Data Type\n",
    " - Constant: 상수\n",
    "     - `tf.constant`\n",
    " - Placeholder: 입력값을 받는 Placeholder\n",
    "     - `tf.placeholder`\n",
    " - Variable: 최적화 할 변수들\n",
    "     - `tf.Variable`"
   ]
  },
  {
   "cell_type": "markdown",
   "metadata": {},
   "source": [
    "# tf.constant"
   ]
  },
  {
   "cell_type": "code",
   "execution_count": 2,
   "metadata": {},
   "outputs": [
    {
     "name": "stdout",
     "output_type": "stream",
     "text": [
      "Tensor(\"Add:0\", shape=(), dtype=float32)\n"
     ]
    }
   ],
   "source": [
    "a = tf.constant(10.)\n",
    "b = tf.constant(20.)\n",
    "c = tf.add(a, b)\n",
    "\n",
    "# Tensor의 기본 메타 정보만 보여줌\n",
    "print(c)"
   ]
  },
  {
   "cell_type": "markdown",
   "metadata": {},
   "source": [
    "![](data/add.png)"
   ]
  },
  {
   "cell_type": "code",
   "execution_count": 3,
   "metadata": {},
   "outputs": [
    {
     "name": "stdout",
     "output_type": "stream",
     "text": [
      "[10.0, 20.0, 30.0]\n"
     ]
    }
   ],
   "source": [
    "# 그래프를 실행할 세션 구성\n",
    "sess = tf.Session()\n",
    "\n",
    "# sess.run: 텐서 그래프 실행\n",
    "print(sess.run([a, b, c]))"
   ]
  },
  {
   "cell_type": "markdown",
   "metadata": {},
   "source": [
    "# tf.placeholder"
   ]
  },
  {
   "cell_type": "code",
   "execution_count": 4,
   "metadata": {
    "scrolled": true
   },
   "outputs": [
    {
     "name": "stdout",
     "output_type": "stream",
     "text": [
      "Tensor(\"Placeholder:0\", shape=(?, 2), dtype=float32)\n"
     ]
    }
   ],
   "source": [
    "X = tf.placeholder(tf.float32, [None, 2])\n",
    "print(X)"
   ]
  },
  {
   "cell_type": "markdown",
   "metadata": {},
   "source": [
    "$$\n",
    "\\text{x_data} = \\left(\\begin{array}{cc} 1\\,\\, 2 \\\\ 3\\,\\, 4\\end{array}\\right)\n",
    "$$"
   ]
  },
  {
   "cell_type": "code",
   "execution_count": 5,
   "metadata": {},
   "outputs": [],
   "source": [
    "# X 플레이스홀더에 대입하는 값\n",
    "x_data = [[1, 2], [3, 4]]"
   ]
  },
  {
   "cell_type": "code",
   "execution_count": 6,
   "metadata": {},
   "outputs": [
    {
     "name": "stdout",
     "output_type": "stream",
     "text": [
      "[[1. 2.]\n",
      " [3. 4.]]\n"
     ]
    }
   ],
   "source": [
    "# X값 print 하기\n",
    "print(sess.run(X, feed_dict={X: x_data}))"
   ]
  },
  {
   "cell_type": "markdown",
   "metadata": {},
   "source": [
    "# tf.Variable"
   ]
  },
  {
   "cell_type": "markdown",
   "metadata": {},
   "source": [
    "$$\n",
    "\\text{W} = \\left(\\begin{array}{cc} 1\\,\\, 1 \\\\ 2\\,\\, 2\\end{array}\\right)\n",
    "$$\n",
    "\n",
    "$$\n",
    "\\text{b} = \\left(\\begin{array}{cc} b_{11}\\,\\, b_{12} \\\\ b_{21}\\,\\, b_{22}\\end{array}\\right)\n",
    "$$\n",
    "\n",
    "$$\n",
    "H = XW + b = \\left(\\begin{array}{cc} 1\\,\\, 2 \\\\ 3\\,\\, 4\\end{array}\\right)\\left(\\begin{array}{cc} 1\\,\\, 1 \\\\ 2\\,\\, 2\\end{array}\\right)+\\left(\\begin{array}{cc} b_{11}\\,\\, b_{12} \\\\ b_{21}\\,\\, b_{22}\\end{array}\\right)\n",
    "$$"
   ]
  },
  {
   "cell_type": "code",
   "execution_count": 7,
   "metadata": {},
   "outputs": [],
   "source": [
    "# tf.random_normal: 정규분포(평균 = 0, 표준편차 =1)\n",
    "\n",
    "#초깃값을 고정해서 배정\n",
    "W = tf.Variable([[1., 1.],[2., 2.]])\n",
    "\n",
    "#초깃값을 정규분포에서 추출\n",
    "b = tf.Variable(tf.random_normal([2, 2])) \n",
    "\n",
    "# 입력값과 변수들을 계산할 수식 작성\n",
    "H = tf.matmul(X, W) + b"
   ]
  },
  {
   "cell_type": "code",
   "execution_count": 8,
   "metadata": {
    "scrolled": true
   },
   "outputs": [
    {
     "name": "stdout",
     "output_type": "stream",
     "text": [
      "[[1. 1.]\n",
      " [2. 2.]]\n",
      "[[-0.74557287  1.8081607 ]\n",
      " [-0.9116307   0.35201246]]\n"
     ]
    }
   ],
   "source": [
    "sess = tf.Session()\n",
    "\n",
    "# Variable은 초기화를 해야함\n",
    "sess.run(tf.global_variables_initializer())\n",
    "\n",
    "print(sess.run(W))\n",
    "\n",
    "print(sess.run(b))"
   ]
  },
  {
   "cell_type": "code",
   "execution_count": 9,
   "metadata": {},
   "outputs": [
    {
     "name": "stdout",
     "output_type": "stream",
     "text": [
      "[[ 4.254427  6.808161]\n",
      " [10.088369 11.352013]]\n"
     ]
    }
   ],
   "source": [
    "print(sess.run(H, feed_dict={X: x_data}))"
   ]
  },
  {
   "cell_type": "code",
   "execution_count": null,
   "metadata": {},
   "outputs": [],
   "source": []
  }
 ],
 "metadata": {
  "kernelspec": {
   "display_name": "Environment (conda_tensorflow_p36)",
   "language": "python",
   "name": "conda_tensorflow_p36"
  },
  "language_info": {
   "codemirror_mode": {
    "name": "ipython",
    "version": 3
   },
   "file_extension": ".py",
   "mimetype": "text/x-python",
   "name": "python",
   "nbconvert_exporter": "python",
   "pygments_lexer": "ipython3",
   "version": "3.6.5"
  }
 },
 "nbformat": 4,
 "nbformat_minor": 2
}
