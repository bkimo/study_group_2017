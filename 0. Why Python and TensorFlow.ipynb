{
 "cells": [
  {
   "cell_type": "markdown",
   "metadata": {},
   "source": [
    "[![](data/python.png)](https://www.python.org)\n",
    "\n",
    " - 데이터 과학 분야의 범용 프로그래밍 언어 \n",
    " - 데이터 적재, 시각화, 통계, 자연어 처리, 이미지 처리 등 다양한(~~검증된~~) 라이브러리 존재\n",
    " - Python vs R, [Google trend](https://trends.google.com/trends/explore?q=python%20data%20science,r%20data%20science)\n",
    " - Jupyter notebook을 이용하여 대화형 프로그래밍 가능\n",
    " - [Anaconda](https://www.anaconda.com/download/)를 이용한 설치 추천(대용량 데이터 처리, 예측 분석, 과학 계산용 파이썬)\n",
    " \n",
    "[![](data/tensorflow.png)](https://www.tensorflow.org)\n",
    "\n",
    "- **딥러닝** 프로그램을 구현할 수 있는 라이브러리(구글 제작)\n",
    "- Python api\n",
    "- 사용자 커뮤니티\n",
    "\n",
    "- [TensorFlow vs others](https://trends.google.com/trends/explore?q=tensorflow%20deep%20learning,torch%20deep%20learning,caffe%20deep%20learning,keras%20deep%20learning)\n",
    "- [Ranking Popular Deep Learning Libraries for Data Science](https://blog.thedataincubator.com/2017/10/ranking-popular-deep-learning-libraries-for-data-science/)\n",
    "- [Tensorboard](https://www.tensorflow.org/get_started/graph_viz)\n",
    "\n",
    "\n",
    "\n"
   ]
  },
  {
   "cell_type": "code",
   "execution_count": 1,
   "metadata": {},
   "outputs": [],
   "source": [
    "import tensorflow as tf\n",
    "import sys"
   ]
  },
  {
   "cell_type": "code",
   "execution_count": 2,
   "metadata": {},
   "outputs": [
    {
     "name": "stdout",
     "output_type": "stream",
     "text": [
      "3.6.5 |Anaconda custom (64-bit)| (default, Apr 29 2018, 16:14:56) \n",
      "[GCC 7.2.0]\n"
     ]
    }
   ],
   "source": [
    "# Python\n",
    "print(sys.version)"
   ]
  },
  {
   "cell_type": "code",
   "execution_count": 3,
   "metadata": {},
   "outputs": [
    {
     "name": "stdout",
     "output_type": "stream",
     "text": [
      "1.10.0\n"
     ]
    }
   ],
   "source": [
    "# TensorFlow\n",
    "print(tf.__version__)"
   ]
  },
  {
   "cell_type": "code",
   "execution_count": null,
   "metadata": {},
   "outputs": [],
   "source": []
  }
 ],
 "metadata": {
  "kernelspec": {
   "display_name": "Environment (conda_tensorflow_p36)",
   "language": "python",
   "name": "conda_tensorflow_p36"
  },
  "language_info": {
   "codemirror_mode": {
    "name": "ipython",
    "version": 3
   },
   "file_extension": ".py",
   "mimetype": "text/x-python",
   "name": "python",
   "nbconvert_exporter": "python",
   "pygments_lexer": "ipython3",
   "version": "3.6.5"
  }
 },
 "nbformat": 4,
 "nbformat_minor": 2
}
